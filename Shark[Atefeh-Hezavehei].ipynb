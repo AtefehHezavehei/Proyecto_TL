{
 "cells": [
  {
   "cell_type": "code",
   "execution_count": 1,
   "id": "bac750bf",
   "metadata": {},
   "outputs": [],
   "source": [
    "import pandas as pd\n",
    "import numpy as np"
   ]
  },
  {
   "cell_type": "code",
   "execution_count": 2,
   "id": "5538e48c",
   "metadata": {},
   "outputs": [],
   "source": [
    "#readfile\n",
    "shark= pd.read_csv(\"attacks.csv\")"
   ]
  },
  {
   "cell_type": "code",
   "execution_count": 3,
   "id": "ec3d585a",
   "metadata": {},
   "outputs": [],
   "source": [
    "#deleteduplicated rows\n",
    "shark=shark.drop_duplicates()   "
   ]
  },
  {
   "cell_type": "code",
   "execution_count": 4,
   "id": "9f552966",
   "metadata": {},
   "outputs": [],
   "source": [
    "#delete 40% full rows ,since 2 columns are empty total=22, keep rows with 9 non values.\n",
    "shark=shark.dropna(thresh=9)"
   ]
  },
  {
   "cell_type": "code",
   "execution_count": 5,
   "id": "1821999e",
   "metadata": {
    "scrolled": true
   },
   "outputs": [
    {
     "data": {
      "text/plain": [
       "Case Number                  1\n",
       "Date                         0\n",
       "Year                         2\n",
       "Type                         4\n",
       "Country                     50\n",
       "Area                       455\n",
       "Location                   540\n",
       "Activity                   544\n",
       "Name                       210\n",
       "Sex                        565\n",
       "Age                       2831\n",
       "Injury                      28\n",
       "Fatal (Y/N)                539\n",
       "Time                      3354\n",
       "Species                   2838\n",
       "Investigator or Source      17\n",
       "pdf                          0\n",
       "href formula                 1\n",
       "href                         0\n",
       "Case Number.1                0\n",
       "Case Number.2                0\n",
       "original order               0\n",
       "Unnamed: 22               6301\n",
       "Unnamed: 23               6300\n",
       "dtype: int64"
      ]
     },
     "execution_count": 5,
     "metadata": {},
     "output_type": "execute_result"
    }
   ],
   "source": [
    "#check empty rows\n",
    "shark.isnull().sum()"
   ]
  },
  {
   "cell_type": "code",
   "execution_count": 6,
   "id": "25a5d854",
   "metadata": {},
   "outputs": [
    {
     "data": {
      "text/plain": [
       "Index(['Case Number', 'Date', 'Year', 'Type', 'Country', 'Area', 'Location',\n",
       "       'Activity', 'Name', 'Sex ', 'Age', 'Injury', 'Fatal (Y/N)', 'Time',\n",
       "       'Species ', 'Investigator or Source', 'pdf', 'href formula', 'href',\n",
       "       'Case Number.1', 'Case Number.2', 'original order', 'Unnamed: 22',\n",
       "       'Unnamed: 23'],\n",
       "      dtype='object')"
      ]
     },
     "execution_count": 6,
     "metadata": {},
     "output_type": "execute_result"
    }
   ],
   "source": [
    "shark.columns"
   ]
  },
  {
   "cell_type": "code",
   "execution_count": 7,
   "id": "630ea3da",
   "metadata": {},
   "outputs": [],
   "source": [
    "#formating column names\n",
    "shark=shark.rename(columns={\"Sex \":\"Sex\", \"Fatal (Y/N)\":\"Fatal\", \"Species \":\"Species\",\"Investigator or Source\":\"Source\",\"Unnamed: 22\":\"NA\",\"Unnamed: 23\":\"NAA\"})"
   ]
  },
  {
   "cell_type": "code",
   "execution_count": 8,
   "id": "87f17a8c",
   "metadata": {},
   "outputs": [
    {
     "data": {
      "text/plain": [
       "Index(['Case Number', 'Date', 'Year', 'Type', 'Country', 'Area', 'Location',\n",
       "       'Activity', 'Name', 'Sex', 'Age', 'Injury', 'Fatal', 'Time', 'Species',\n",
       "       'Source', 'pdf', 'href formula', 'href', 'Case Number.1',\n",
       "       'Case Number.2', 'original order', 'NA', 'NAA'],\n",
       "      dtype='object')"
      ]
     },
     "execution_count": 8,
     "metadata": {},
     "output_type": "execute_result"
    }
   ],
   "source": [
    "shark.columns"
   ]
  },
  {
   "cell_type": "code",
   "execution_count": 9,
   "id": "fc939f62",
   "metadata": {},
   "outputs": [
    {
     "data": {
      "text/plain": [
       "array(['F', 'M', nan, 'M ', 'lli', 'N', '.'], dtype=object)"
      ]
     },
     "execution_count": 9,
     "metadata": {},
     "output_type": "execute_result"
    }
   ],
   "source": [
    "shark.Sex.unique()"
   ]
  },
  {
   "cell_type": "code",
   "execution_count": 10,
   "id": "35e32362",
   "metadata": {},
   "outputs": [
    {
     "data": {
      "text/plain": [
       "array(['Female', 'Male', 'Unknown'], dtype=object)"
      ]
     },
     "execution_count": 10,
     "metadata": {},
     "output_type": "execute_result"
    }
   ],
   "source": [
    "# Cleaning the Sex Column by replacing the missing & wrong values\n",
    "shark[\"Sex\"] = shark[\"Sex\"].fillna(0)\n",
    "shark[\"Sex\"]=shark[\"Sex\"].map({\"F\":\"Female\",\"M\":\"Male\",\"M \":\"Male\",\"lli\":\"Unknown\",\"N\":\"Unknown\",\".\":\"Unknown\", None:\"Unknown\", 0:\"Unknown\"})\n",
    "shark.Sex.unique()"
   ]
  },
  {
   "cell_type": "code",
   "execution_count": 11,
   "id": "cdfd4d17",
   "metadata": {},
   "outputs": [
    {
     "data": {
      "text/plain": [
       "array(['N', 'Y', nan, 'M', 'UNKNOWN', '2017', ' N', 'N ', 'y'],\n",
       "      dtype=object)"
      ]
     },
     "execution_count": 11,
     "metadata": {},
     "output_type": "execute_result"
    }
   ],
   "source": [
    "shark.Fatal.unique()"
   ]
  },
  {
   "cell_type": "code",
   "execution_count": 12,
   "id": "c25758de",
   "metadata": {},
   "outputs": [],
   "source": [
    "shark[\"Fatal\"] = shark[\"Fatal\"].fillna(\"0\")\n",
    "shark[\"Fatal\"]=shark[\"Fatal\"].map({\"N\":\"No\",\"Y\":\"Yes\",\"M \":\"No\",\"UNKNOWN\":\"Unknown\",\"2017\":\"Unknown\",\" N'\":\"No\", \"N\" :\"No\",\"y\":\"Yes\"})\n",
    "shark[\"Fatal\"] = shark[\"Fatal\"].fillna(\"Unknown\")"
   ]
  },
  {
   "cell_type": "code",
   "execution_count": 13,
   "id": "a7649588",
   "metadata": {},
   "outputs": [
    {
     "data": {
      "text/plain": [
       "array(['No', 'Yes', 'Unknown'], dtype=object)"
      ]
     },
     "execution_count": 13,
     "metadata": {},
     "output_type": "execute_result"
    }
   ],
   "source": [
    "shark.Fatal.unique()"
   ]
  },
  {
   "cell_type": "code",
   "execution_count": 14,
   "id": "9a4849c3",
   "metadata": {},
   "outputs": [
    {
     "data": {
      "text/plain": [
       "array(['Boating', 'Unprovoked', 'Invalid', 'Provoked', 'Questionable',\n",
       "       'Sea Disaster', nan, 'Boat', 'Boatomg'], dtype=object)"
      ]
     },
     "execution_count": 14,
     "metadata": {},
     "output_type": "execute_result"
    }
   ],
   "source": [
    "shark.Type.unique()"
   ]
  },
  {
   "cell_type": "code",
   "execution_count": 15,
   "id": "9495c037",
   "metadata": {},
   "outputs": [],
   "source": [
    "shark[\"Type\"] = shark[\"Type\"].fillna(0)\n",
    "shark[\"Type\"]=shark[\"Type\"].map({\"Boating\":\"Boating\",\"Unprovoked\":\"Unprovoked\",\"Invalid\":\"Questionable\", \"Provoked\":\"Provoked\", \"Questionable\":\"Questionable\",\n",
    "                                 \"Sea Disaster\":\"Sea\",0:\"Questionable\" ,None:\"Questionable\",\"Boat\":\"Boating\",\"Boatomg\":\"Boating\"})"
   ]
  },
  {
   "cell_type": "code",
   "execution_count": 16,
   "id": "6127e4ab",
   "metadata": {},
   "outputs": [
    {
     "data": {
      "text/plain": [
       "array(['Boating', 'Unprovoked', 'Questionable', 'Provoked', 'Sea'],\n",
       "      dtype=object)"
      ]
     },
     "execution_count": 16,
     "metadata": {},
     "output_type": "execute_result"
    }
   ],
   "source": [
    "shark.Type.unique()"
   ]
  },
  {
   "cell_type": "code",
   "execution_count": 17,
   "id": "0ddc0134",
   "metadata": {},
   "outputs": [],
   "source": [
    "shark.to_csv(\"shark7.csv\")"
   ]
  },
  {
   "cell_type": "code",
   "execution_count": 20,
   "id": "5367fe05",
   "metadata": {},
   "outputs": [],
   "source": [
    "#Filling empty values of unrelevent information by Unknown\n",
    "shark[\"Name\"] = shark[\"Name\"].fillna(\"Unknown\")\n",
    "shark[\"Area\"] = shark[\"Area\"].fillna(\"Unknown\")\n",
    "shark[\"Location\"] = shark[\"Location\"].fillna(\"Unknown\")\n",
    "shark[\"Injury\"] = shark[\"Injury\"].fillna(\"Unknown\")\n",
    "shark[\"Source\"] = shark[\"Source\"].fillna(\"Unknown\")"
   ]
  },
  {
   "cell_type": "code",
   "execution_count": 21,
   "id": "5b6d0e38",
   "metadata": {},
   "outputs": [
    {
     "data": {
      "text/plain": [
       "Case Number          1\n",
       "Date                 0\n",
       "Year                 2\n",
       "Type                 0\n",
       "Country             50\n",
       "Area                 0\n",
       "Location             0\n",
       "Activity           544\n",
       "Name                 0\n",
       "Sex                  0\n",
       "Age               2831\n",
       "Injury               0\n",
       "Fatal                0\n",
       "Time              3354\n",
       "Species           2838\n",
       "Source               0\n",
       "pdf                  0\n",
       "href formula         1\n",
       "href                 0\n",
       "Case Number.1        0\n",
       "Case Number.2        0\n",
       "original order       0\n",
       "NA                6301\n",
       "NAA               6300\n",
       "dtype: int64"
      ]
     },
     "execution_count": 21,
     "metadata": {},
     "output_type": "execute_result"
    }
   ],
   "source": [
    "shark.isnull().sum()"
   ]
  },
  {
   "cell_type": "code",
   "execution_count": null,
   "id": "11fce088",
   "metadata": {},
   "outputs": [],
   "source": []
  }
 ],
 "metadata": {
  "kernelspec": {
   "display_name": "Python 3",
   "language": "python",
   "name": "python3"
  },
  "language_info": {
   "codemirror_mode": {
    "name": "ipython",
    "version": 3
   },
   "file_extension": ".py",
   "mimetype": "text/x-python",
   "name": "python",
   "nbconvert_exporter": "python",
   "pygments_lexer": "ipython3",
   "version": "3.9.2"
  }
 },
 "nbformat": 4,
 "nbformat_minor": 5
}
